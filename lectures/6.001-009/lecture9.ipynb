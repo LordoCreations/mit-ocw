{
 "cells": [
  {
   "cell_type": "markdown",
   "metadata": {},
   "source": [
    "# Classes"
   ]
  },
  {
   "cell_type": "code",
   "execution_count": null,
   "metadata": {},
   "outputs": [],
   "source": [
    "class notSuperSecretClass(object):\n",
    "    def __init__(self, a, b):\n",
    "        self.username = a\n",
    "        self.password = b\n",
    "    \n",
    "insecure = notSuperSecretClass('JohnnyGonny123', '189ASu87s@1')\n",
    "\n",
    "# we can access and change data\n",
    "\n",
    "print(insecure.username, insecure.password)\n",
    "\n",
    "insecure.password = 'CORRUPTED'\n",
    "\n",
    "print(insecure.username, insecure.password)\n"
   ]
  },
  {
   "cell_type": "code",
   "execution_count": null,
   "metadata": {},
   "outputs": [],
   "source": [
    "class anotherClass(object):\n",
    "    def __init__(self, a, b):\n",
    "        self.username = a\n",
    "        self.password = b\n",
    "    \n",
    "    def user(self, u=None): # param = x is a default argument, if nothing is passed in use default value\n",
    "        if u != None:\n",
    "            self.username = u\n",
    "        return self.username\n",
    "\n",
    "acc = anotherClass('JohnnyGonny123', '189ASu87s@1')\n",
    "\n",
    "print(acc.user())\n",
    "print(acc.user('GonnyJohhny321'))\n"
   ]
  },
  {
   "cell_type": "markdown",
   "metadata": {},
   "source": [
    "# Hierarchy"
   ]
  },
  {
   "cell_type": "code",
   "execution_count": null,
   "metadata": {},
   "outputs": [],
   "source": [
    "class Animal(object): # class animal extends object\n",
    "    def __init__(self, age):\n",
    "        self.age = age\n",
    "    def __str__(self):\n",
    "        return f'< {self.age} / {type(self)}>'\n",
    "    def custom(self):\n",
    "        return self.age\n",
    "\n",
    "class Human(Animal):\n",
    "    def sayage(self): # new method\n",
    "        print(f'My age is {self.age}')\n",
    "    \n",
    "    def __str__(self): # overide original\n",
    "        return f'< {self.age} / {type(self)} / Human'\n",
    "    \n",
    "    def callcustom(self):\n",
    "        age = Animal.custom() # can call parent constructor\n",
    "        return age*100\n",
    "\n",
    "joe = Human(69)\n",
    "\n",
    "joe.sayage()\n",
    "print(joe)"
   ]
  },
  {
   "cell_type": "markdown",
   "metadata": {},
   "source": [
    "### Using Libraries to Extend Classes"
   ]
  },
  {
   "cell_type": "code",
   "execution_count": null,
   "metadata": {},
   "outputs": [],
   "source": [
    "import random\n",
    "\n",
    "class BetterRandom(random.Random): # random has subclass Random\n",
    "    def randlist(t, d, imes): # borrow the existing random.randint() to create a new randlist function, other random methods still exist\n",
    "        r = []\n",
    "        for i in range(imes): r.append(random.randint(t, d))\n",
    "        return r\n",
    "\n",
    "print(f'''\n",
    "{BetterRandom.randlist(0, 100, 20)} <- new randlist function\n",
    "{BetterRandom.randint(0, 100)} <- original random method\n",
    "''')"
   ]
  },
  {
   "cell_type": "markdown",
   "metadata": {},
   "source": [
    "### Class Variables"
   ]
  },
  {
   "cell_type": "code",
   "execution_count": null,
   "metadata": {},
   "outputs": [],
   "source": [
    "class Rabbits(object):\n",
    "    tag = 1 # class variable, accessed via Rabbits class\n",
    "    def __init__(self, age, p1=None, p2=None):\n",
    "            self.age = age\n",
    "            self.p1 = p1\n",
    "            self.p2 = p2\n",
    "            self.tag = Rabbits.tag # can be used to create a unique id\n",
    "            Rabbits.tag += 1\n",
    "\n",
    "rabbit1 = Rabbits(3)\n",
    "rabbit2 = Rabbits(3)\n",
    "\n",
    "rabbit3 = Rabbits(1, rabbit1.tag, rabbit2.tag)\n",
    "\n",
    "print(rabbit3.p1, rabbit3.p2)\n"
   ]
  }
 ],
 "metadata": {
  "interpreter": {
   "hash": "aee8b7b246df8f9039afb4144a1f6fd8d2ca17a180786b69acc140d282b71a49"
  },
  "kernelspec": {
   "display_name": "Python 3.10.4 64-bit",
   "language": "python",
   "name": "python3"
  },
  "language_info": {
   "codemirror_mode": {
    "name": "ipython",
    "version": 3
   },
   "file_extension": ".py",
   "mimetype": "text/x-python",
   "name": "python",
   "nbconvert_exporter": "python",
   "pygments_lexer": "ipython3",
   "version": "3.10.4"
  },
  "orig_nbformat": 4
 },
 "nbformat": 4,
 "nbformat_minor": 2
}
