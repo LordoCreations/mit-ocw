{
 "cells": [
  {
   "cell_type": "markdown",
   "metadata": {},
   "source": [
    "# Program Efficiency"
   ]
  },
  {
   "cell_type": "code",
   "execution_count": null,
   "metadata": {},
   "outputs": [],
   "source": [
    "# test 1 : timing\n",
    "\n",
    "import time\n",
    "\n",
    "\n",
    "def fib(day, r, ldr):\n",
    "    if day == 0 or day == 1:\n",
    "        return r\n",
    "    else:\n",
    "        return fib(day-1, r+ldr, r)\n",
    "\n",
    "start_time = time.time()\n",
    "fib(100, 1, 1) # run our algorithm\n",
    "print(f'{time.time() - start_time} seconds\\n')"
   ]
  },
  {
   "cell_type": "markdown",
   "metadata": {},
   "source": [
    "# Abstractions"
   ]
  },
  {
   "cell_type": "code",
   "execution_count": null,
   "metadata": {},
   "outputs": [],
   "source": [
    "def loop(a, b):\n",
    "    total = 0 # one set\n",
    "    for i in range(a): # this is a loop, basically operations times a\n",
    "        total += i*b # this is three basic operations, a add and a multiply and set\n",
    "    return total\n",
    "\n",
    "# result -> difficulty = 1 + a*3"
   ]
  },
  {
   "cell_type": "markdown",
   "metadata": {},
   "source": [
    "### Big-O Notation"
   ]
  },
  {
   "cell_type": "code",
   "execution_count": null,
   "metadata": {},
   "outputs": [],
   "source": [
    "def expo(n):\n",
    "    counter = 2\n",
    "    for i in range(n):\n",
    "        for j in range(n):\n",
    "            counter *= (j+1)\n",
    "    return counter\n",
    "\n",
    "expo(20) # difficulty = n**2"
   ]
  },
  {
   "cell_type": "code",
   "execution_count": null,
   "metadata": {},
   "outputs": [],
   "source": [
    "def slowsearch(l, v):\n",
    "    for item in l: # worst-case: v in not in l, which means we have to go through the loop n+1 times\n",
    "        if item == v:\n",
    "            return l.index(item)\n",
    "    return None\n",
    "\n",
    "test = [1, 2, 3, 4, 5, 6, 7, 8, 9, 10, 99]\n",
    "\n",
    "slowsearch(test, 10)"
   ]
  },
  {
   "cell_type": "markdown",
   "metadata": {},
   "source": [
    "### How to evalutate an algorithm with big-O notation:\n",
    "\n",
    "1. accessing objects at index, getting variables, and setting variables are constant\n",
    "2. addition, substraction, multiplication and division are also constant\n",
    "3. loops are linear (usually) -\n",
    "    ```py\n",
    "    counter = 0 # constant\n",
    "    for i in range(100): # linear\n",
    "        counter += i # constant + constant\n",
    "    ```\n",
    "4. copying lists is linear **important**\n",
    "5. usually, the highest order is the algorithm's O value\n",
    "6. order of O -> n, log(n), linear, n log(n), n^2, 2^n, n!\n",
    "7. also known as constant, logarithmic, "
   ]
  }
 ],
 "metadata": {
  "interpreter": {
   "hash": "aee8b7b246df8f9039afb4144a1f6fd8d2ca17a180786b69acc140d282b71a49"
  },
  "kernelspec": {
   "display_name": "Python 3.10.4 64-bit",
   "language": "python",
   "name": "python3"
  },
  "language_info": {
   "codemirror_mode": {
    "name": "ipython",
    "version": 3
   },
   "file_extension": ".py",
   "mimetype": "text/x-python",
   "name": "python",
   "nbconvert_exporter": "python",
   "pygments_lexer": "ipython3",
   "version": "3.10.4"
  },
  "orig_nbformat": 4
 },
 "nbformat": 4,
 "nbformat_minor": 2
}
