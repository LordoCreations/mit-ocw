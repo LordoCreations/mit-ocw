{
 "cells": [
  {
   "cell_type": "markdown",
   "metadata": {},
   "source": [
    "# String Manipulation\n"
   ]
  },
  {
   "cell_type": "code",
   "execution_count": null,
   "metadata": {},
   "outputs": [],
   "source": [
    "s = 'interesting vow3ls'\n",
    "s2 = 'less interesting owls'\n",
    "\n",
    "print(f'''\n",
    "{s == s} - comparision\n",
    "{s > s2}\n",
    "{s < s2}\n",
    "{s >= s}\n",
    "''')"
   ]
  },
  {
   "cell_type": "code",
   "execution_count": null,
   "metadata": {},
   "outputs": [],
   "source": [
    "print(f'''\n",
    "{len(s)} - length of string\n",
    "{s[1]} - character at index 1 (second character) in string\n",
    "{s[-1]} - character at index -1 (last character) in string\n",
    "''')"
   ]
  },
  {
   "cell_type": "code",
   "execution_count": null,
   "metadata": {},
   "outputs": [],
   "source": [
    "sliceable = 'abcdefgh'\n",
    "\n",
    "sliceable[1:4:2] # start, stop, step => eg. from index 1 (b) to index 3 (d), with steps of 2 (b, d)\n",
    "\n",
    "print(f'''\n",
    "{sliceable[3:6]} - string from index 3 to 5\n",
    "{sliceable[3:-1]} - string from index 3 to -2\n",
    "{sliceable[3:]} - string from index 3 to -1\n",
    "{sliceable[::-1]} - string in reverse order\n",
    "{sliceable[6:3:-2]} - string from index 2 to 6 in reverse order, gaps of 2\n",
    "\n",
    "''')"
   ]
  },
  {
   "cell_type": "code",
   "execution_count": null,
   "metadata": {},
   "outputs": [],
   "source": [
    "immutable = 'hello'\n",
    "# immutable[0] = 'y' does not work (strings are immutable, and cannot be edited at index)\n",
    "\n",
    "# workaround\n",
    "immutable = 'y'+immutable[1:] # created new object, takes some extra memory\n",
    "print(immutable)\n",
    "\n",
    "# second workaround\n",
    "immutable = list(immutable)\n",
    "immutable[0] = 'j' # <- easier for more character swaps\n",
    "immutable = ''.join(map(str, immutable)) # a bit more complicated to understand but useable for now\n",
    "print(immutable)"
   ]
  },
  {
   "cell_type": "markdown",
   "metadata": {},
   "source": [
    "# Iterating Over Strings with Loops"
   ]
  },
  {
   "cell_type": "code",
   "execution_count": null,
   "metadata": {},
   "outputs": [],
   "source": [
    "loopy = 'veryL00PY_string'\n",
    "\n",
    "for char in loopy:\n",
    "    if char == '0':\n",
    "        print('This string is very L00PY!')\n",
    "        break\n",
    "    elif char == loopy[-1]: # just for fun - when the last char to be iterated is not '0' print that it is not loopy\n",
    "        print('This string is not very loopy...')"
   ]
  },
  {
   "cell_type": "markdown",
   "metadata": {},
   "source": [
    "# Algorithms"
   ]
  },
  {
   "cell_type": "code",
   "execution_count": null,
   "metadata": {},
   "outputs": [],
   "source": [
    "# guess and check cube root algorithm - not the code of the lecture but similar in concept\n",
    "\n",
    "def cuberoot(v, acc=0.01):\n",
    "    num = abs(v) # deal with negatives\n",
    "    r = 0  # Our guess answer\n",
    "    while r**3 <= num:\n",
    "        r += acc  # increment guess\n",
    "    if v < 0:\n",
    "        r *= -1 # deal with negatives\n",
    "    return round(r*(1/acc))/(1/acc) # round answer\n",
    "\n",
    "cuberoot(-222, 0.0001)\n"
   ]
  },
  {
   "cell_type": "markdown",
   "metadata": {},
   "source": [
    "### Bisection Search"
   ]
  },
  {
   "cell_type": "code",
   "execution_count": 8,
   "metadata": {},
   "outputs": [
    {
     "data": {
      "text/plain": [
       "0.73"
      ]
     },
     "execution_count": 8,
     "metadata": {},
     "output_type": "execute_result"
    }
   ],
   "source": [
    "def search(t, b, n, e):\n",
    "    guess = b+(t-b)/2\n",
    "    if abs(guess**3 - n) <= e:\n",
    "        return guess\n",
    "    elif guess**3 < n:\n",
    "        return search(t, guess, n, e)\n",
    "    elif guess**3 > n:\n",
    "        return search(guess, b, n, e)\n",
    "\n",
    "def cuberoot(v, acc=0.01):\n",
    "    num = abs(v)\n",
    "    if num >= 1:\n",
    "        r = round(search(num, 0, num, acc)*(1/acc))/(1/acc)\n",
    "    else:\n",
    "        r = round(search(1, 0, num, acc)*(1/acc))/(1/acc)\n",
    "    if abs(v) != v:\n",
    "        r = r*-1\n",
    "    return r\n",
    "\n",
    "\n",
    "cuberoot(0.4)"
   ]
  }
 ],
 "metadata": {
  "interpreter": {
   "hash": "aee8b7b246df8f9039afb4144a1f6fd8d2ca17a180786b69acc140d282b71a49"
  },
  "kernelspec": {
   "display_name": "Python 3.10.4 64-bit",
   "language": "python",
   "name": "python3"
  },
  "language_info": {
   "codemirror_mode": {
    "name": "ipython",
    "version": 3
   },
   "file_extension": ".py",
   "mimetype": "text/x-python",
   "name": "python",
   "nbconvert_exporter": "python",
   "pygments_lexer": "ipython3",
   "version": "3.10.4"
  },
  "orig_nbformat": 4
 },
 "nbformat": 4,
 "nbformat_minor": 2
}
