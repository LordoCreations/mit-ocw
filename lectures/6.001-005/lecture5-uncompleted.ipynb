{
 "cells": [
  {
   "cell_type": "markdown",
   "metadata": {},
   "source": [
    "# Tuples"
   ]
  },
  {
   "cell_type": "code",
   "execution_count": null,
   "metadata": {},
   "outputs": [],
   "source": [
    "twople = (1, 2.99, 'tuple') # tuples are a collection of any data type (eg. int, str, float etc) and are immutable\n",
    "print(twople)\n",
    "\n",
    "twople += ('jello', 99.999) # tuples can be concatenated\n",
    "print(twople)\n",
    "\n",
    "# twople[0] = 'hello' will throw an error\n",
    "print(twople[0]) # tuples can be called at an index for reading, but cannot be used for writing (like strings)\n",
    "\n",
    "print(twople[1:4]) # tuples can be spliced like strings, returning a tuple\n",
    "\n",
    "print(len(twople)) # tuples have a length attribute\n",
    "\n",
    "singletuple = (100,) # if a tuple only has one element a ',' is put after the last object in the tuple\n",
    "emptytuple = () # an empty tuple can be declared without a ','"
   ]
  },
  {
   "cell_type": "code",
   "execution_count": null,
   "metadata": {},
   "outputs": [],
   "source": [
    "# tuples are often used to swap variable values\n",
    "x = 100\n",
    "y = 'suprise!'\n",
    "print(f'x = {x}, y = {y}')\n",
    "\n",
    "(x, y) = (y, x) # <= removes the need for a placeholder variable\n",
    "\n",
    "print(f'x = {x}, y = {y}')"
   ]
  },
  {
   "cell_type": "code",
   "execution_count": null,
   "metadata": {},
   "outputs": [],
   "source": [
    "# tuples can also be used to return multiple objects from functions\n",
    "def multireturn():\n",
    "    alpha = 'A'\n",
    "    bravo = 'U+0042'\n",
    "    charlie = 'Chuckles'\n",
    "    return (alpha, bravo, charlie)\n",
    "\n",
    "(a, b, c) = multireturn()\n",
    "\n",
    "print(f'a = {a}, b = {b}, c = {c}')"
   ]
  },
  {
   "cell_type": "code",
   "execution_count": null,
   "metadata": {},
   "outputs": [],
   "source": [
    "# you can also iterate over tuples (like strings but with objects instead of characters)\n",
    "\n",
    "tup = ('never', 'gonna', 'give', 'you', 'up')\n",
    "\n",
    "for o in tup:\n",
    "    print(o.upper())\n",
    "\n",
    "nestedtup = (tup, (tup[0], tup[-1]), (1, 2, 3, 4)) # tuples can also be nested inside other tuples\n",
    "for o in nestedtup:\n",
    "    for t in o:\n",
    "        print(t, end=\", \")\n",
    "    print('%%  ', end='')"
   ]
  },
  {
   "cell_type": "markdown",
   "metadata": {},
   "source": [
    "# Lists"
   ]
  },
  {
   "cell_type": "code",
   "execution_count": null,
   "metadata": {},
   "outputs": [],
   "source": [
    "lizt = ['a', 'verrry', 100, True, 'list'] # a list is a mutable object that contains other objects\n",
    "\n",
    "lizt += ['jello', 99.999] # lists can be concatenated\n",
    "print(lizt)\n",
    "\n",
    "lizt[0] = 'hello' # lists are mutable and can be edited\n",
    "print(lizt[0]) # lists can be called at an index for reading\n",
    "\n",
    "print(lizt[1:4]) # lists can be spliced like strings, returning a list\n",
    "\n",
    "print(len(lizt)) # lists have a length attribute\n",
    "\n",
    "emptylist = [] # empty list declaration\n",
    "oneitemlist = ['very lonely item'] # single item lists are declared the same way as regulat lists\n",
    "nestedlist = [[1, 2, 3, 4], ['apples', 'pears', 'bananas']] # nested lists are also allowed\n",
    "\n",
    "print(lizt, emptylist, oneitemlist, nestedlist, sep = '\\n')"
   ]
  },
  {
   "cell_type": "code",
   "execution_count": null,
   "metadata": {},
   "outputs": [],
   "source": [
    "# lists can also be iterated through\n",
    "\n",
    "for item in nestedlist:\n",
    "    for i in item: # nested lists can also be iterated through\n",
    "        print(i, end=', ')\n",
    "\n",
    "numericallist = [1, 2, 99, 33, 45, 67]\n",
    "total = 0\n",
    "for item in numericallist:\n",
    "    total += item\n",
    "print('\\n', total, sep = '')\n",
    "print(sum(numericallist)) # sum of all elements in list, can also be used on tuples and multiple numbers or lists and tuples"
   ]
  },
  {
   "cell_type": "code",
   "execution_count": null,
   "metadata": {},
   "outputs": [],
   "source": [
    "# lists can also be edited with functions like:\n",
    "\n",
    "l = [5, 4, 3, 2]\n",
    "\n",
    "l.append(0) # adds an object to the end of the list\n",
    "print(l)\n",
    "\n",
    "l.extend([-1, -2, -3]) # lists can also be concatenated onto the end of a list in a mutable way\n",
    "print(l)\n",
    "\n",
    "del(l[0]) # used to delete an item from the list at a specific index\n",
    "print(l.pop()) # removes the last element from the list, returns the value of the removed element\n",
    "l.remove(3) # removes the element from the list (if the element has duplicates, the one with lowest index is removed)\n",
    "print(l)"
   ]
  },
  {
   "cell_type": "markdown",
   "metadata": {},
   "source": [
    "### Conversion Between Lists and Strings"
   ]
  },
  {
   "cell_type": "code",
   "execution_count": null,
   "metadata": {},
   "outputs": [],
   "source": [
    "string = 'I love potatoes'\n",
    "print(list(string)) # seperates the string into a list, with each character as an object\n",
    "print(string.split(' ')) # splits the string into a list, with ' ' being the seperator\n",
    "\n",
    "l = ['a', 'p', 'p', 'l', 'e']\n",
    "print(''.join(l)) # joins all elements of the list together with no gaps\n",
    "print('_'.join(string.split(' '))) # joins all elements of the list together with '_'"
   ]
  },
  {
   "cell_type": "code",
   "execution_count": null,
   "metadata": {},
   "outputs": [],
   "source": [
    "l = [9, 8, 1000, 0, 87]\n",
    "\n",
    "al = sorted(l) # sorts list from least to greatest, does not mutate\n",
    "\n",
    "l.sort() # sorts list and mutates\n",
    "l.reverse() # reverses list\n",
    "\n",
    "print(l, al)"
   ]
  }
 ],
 "metadata": {
  "interpreter": {
   "hash": "aee8b7b246df8f9039afb4144a1f6fd8d2ca17a180786b69acc140d282b71a49"
  },
  "kernelspec": {
   "display_name": "Python 3.10.4 64-bit",
   "language": "python",
   "name": "python3"
  },
  "language_info": {
   "codemirror_mode": {
    "name": "ipython",
    "version": 3
   },
   "file_extension": ".py",
   "mimetype": "text/x-python",
   "name": "python",
   "nbconvert_exporter": "python",
   "pygments_lexer": "ipython3",
   "version": "3.10.4"
  },
  "orig_nbformat": 4
 },
 "nbformat": 4,
 "nbformat_minor": 2
}
