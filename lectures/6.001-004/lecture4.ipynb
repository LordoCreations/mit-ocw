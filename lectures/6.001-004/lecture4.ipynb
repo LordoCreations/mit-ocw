{
 "cells": [
  {
   "cell_type": "markdown",
   "metadata": {},
   "source": [
    "# Functions"
   ]
  },
  {
   "cell_type": "code",
   "execution_count": null,
   "metadata": {},
   "outputs": [],
   "source": [
    "def function(parameter1, parameter2): # define a function with def\n",
    "    # below is a multiline comment for a abstraction\n",
    "    '''\n",
    "    takes 2 parameters, one a string and another a int, then loops {parameter2} times and then prints out {parameter1}. The function returns 0, indicating completion.\n",
    "    '''\n",
    "    for i in range(parameter2):\n",
    "        print(i+1, '!')\n",
    "    print(parameter1+'!!!!!!')\n",
    "    return 0 # return a value (to the function call)\n",
    "\n",
    "argument1 = 'jello'\n",
    "argument2 = 5\n",
    "\n",
    "result = function(argument1, argument2) # call function"
   ]
  },
  {
   "cell_type": "markdown",
   "metadata": {},
   "source": [
    "### Variable Scopes"
   ]
  },
  {
   "cell_type": "code",
   "execution_count": null,
   "metadata": {},
   "outputs": [],
   "source": [
    "def calculate(x, y, z): # <- parameters are a only defined within the calculate() scope\n",
    "    a = x+y # <- a and b are only defined within the calculate() scope\n",
    "    b = x*y*z\n",
    "    print(a) # <- does not throw error\n",
    "    return a+b\n",
    "\n",
    "answer = calculate(1, 2, 3)\n",
    "# print(a) <- will throw an error that a is undefined\n",
    "# print(x) <- will also throw an error that x is undefined"
   ]
  },
  {
   "cell_type": "code",
   "execution_count": null,
   "metadata": {},
   "outputs": [],
   "source": [
    "def wierd():\n",
    "    x = 1+1\n",
    "\n",
    "print(wierd()) # <- no return value, so the function evaluates to 'None'"
   ]
  },
  {
   "cell_type": "code",
   "execution_count": null,
   "metadata": {},
   "outputs": [],
   "source": [
    "def func_a(func): # <- functions can also be used as parameters\n",
    "    return func()*3\n",
    "\n",
    "def func_b():\n",
    "    return 4*22\n",
    "\n",
    "func_a(func_b) # <- don't include () in the function parameter"
   ]
  },
  {
   "cell_type": "code",
   "execution_count": 11,
   "metadata": {},
   "outputs": [
    {
     "data": {
      "text/plain": [
       "4"
      ]
     },
     "execution_count": 11,
     "metadata": {},
     "output_type": "execute_result"
    }
   ],
   "source": [
    "def a(x):\n",
    "    def b():\n",
    "        x = 'abc'\n",
    "    x = x+1\n",
    "    b()\n",
    "    return x\n",
    "\n",
    "x = 3\n",
    "a(x)"
   ]
  }
 ],
 "metadata": {
  "interpreter": {
   "hash": "aee8b7b246df8f9039afb4144a1f6fd8d2ca17a180786b69acc140d282b71a49"
  },
  "kernelspec": {
   "display_name": "Python 3.10.4 64-bit",
   "language": "python",
   "name": "python3"
  },
  "language_info": {
   "codemirror_mode": {
    "name": "ipython",
    "version": 3
   },
   "file_extension": ".py",
   "mimetype": "text/x-python",
   "name": "python",
   "nbconvert_exporter": "python",
   "pygments_lexer": "ipython3",
   "version": "3.10.4"
  },
  "orig_nbformat": 4
 },
 "nbformat": 4,
 "nbformat_minor": 2
}
