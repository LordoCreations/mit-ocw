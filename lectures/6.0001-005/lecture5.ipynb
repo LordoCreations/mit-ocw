{
 "cells": [
  {
   "cell_type": "markdown",
   "metadata": {},
   "source": [
    "# Tuples\n"
   ]
  },
  {
   "cell_type": "code",
   "execution_count": null,
   "metadata": {},
   "outputs": [],
   "source": [
    "# tuples are a collection of any data type (eg. int, str, float etc) and are immutable\n",
    "twople = (1, 2.99, 'tuple')\n",
    "print(twople)\n",
    "\n",
    "twople += ('jello', 99.999)  # tuples can be concatenated\n",
    "print(twople)\n",
    "\n",
    "# twople[0] = 'hello' will throw an error\n",
    "# tuples can be called at an index for reading, but cannot be used for writing (like strings)\n",
    "print(twople[0])\n",
    "\n",
    "print(twople[1:4])  # tuples can be spliced like strings, returning a tuple\n",
    "\n",
    "print(len(twople))  # tuples have a length attribute\n",
    "\n",
    "# if a tuple only has one element a ',' is put after the last object in the tuple\n",
    "singletuple = (100,)\n",
    "emptytuple = ()  # an empty tuple can be declared without a ','\n"
   ]
  },
  {
   "cell_type": "code",
   "execution_count": null,
   "metadata": {},
   "outputs": [],
   "source": [
    "# tuples are often used to swap variable values\n",
    "x = 100\n",
    "y = 'suprise!'\n",
    "print(f'x = {x}, y = {y}')\n",
    "\n",
    "(x, y) = (y, x)  # <= removes the need for a placeholder variable\n",
    "\n",
    "print(f'x = {x}, y = {y}')\n"
   ]
  },
  {
   "cell_type": "code",
   "execution_count": null,
   "metadata": {},
   "outputs": [],
   "source": [
    "# tuples can also be used to return multiple objects from functions\n",
    "def multireturn():\n",
    "    alpha = 'A'\n",
    "    bravo = 'U+0042'\n",
    "    charlie = 'Chuckles'\n",
    "    return (alpha, bravo, charlie)\n",
    "\n",
    "\n",
    "(a, b, c) = multireturn()\n",
    "\n",
    "print(f'a = {a}, b = {b}, c = {c}')\n"
   ]
  },
  {
   "cell_type": "code",
   "execution_count": null,
   "metadata": {},
   "outputs": [],
   "source": [
    "# you can also iterate over tuples (like strings but with objects instead of characters)\n",
    "\n",
    "tup = ('never', 'gonna', 'give', 'you', 'up')\n",
    "\n",
    "for o in tup:\n",
    "    print(o.upper())\n",
    "\n",
    "# tuples can also be nested inside other tuples\n",
    "nestedtup = (tup, (tup[0], tup[-1]), (1, 2, 3, 4))\n",
    "for o in nestedtup:\n",
    "    for t in o:\n",
    "        print(t, end=\", \")\n",
    "    print('%%  ', end='')\n"
   ]
  },
  {
   "cell_type": "markdown",
   "metadata": {},
   "source": [
    "# Lists\n"
   ]
  },
  {
   "cell_type": "code",
   "execution_count": null,
   "metadata": {},
   "outputs": [],
   "source": [
    "# a list is a mutable object that contains other objects\n",
    "lizt = ['a', 'verrry', 100, True, 'list']\n",
    "\n",
    "lizt += ['jello', 99.999]  # lists can be concatenated\n",
    "print(lizt)\n",
    "\n",
    "lizt[0] = 'hello'  # lists are mutable and can be edited\n",
    "print(lizt[0])  # lists can be called at an index for reading\n",
    "\n",
    "print(lizt[1:4])  # lists can be spliced like strings, returning a list\n",
    "\n",
    "print(len(lizt))  # lists have a length attribute\n",
    "\n",
    "emptylist = []  # empty list declaration\n",
    "# single item lists are declared the same way as regulat lists\n",
    "oneitemlist = ['very lonely item']\n",
    "# nested lists are also allowed\n",
    "nestedlist = [[1, 2, 3, 4], ['apples', 'pears', 'bananas']]\n",
    "\n",
    "print(lizt, emptylist, oneitemlist, nestedlist, sep='\\n')\n"
   ]
  },
  {
   "cell_type": "code",
   "execution_count": null,
   "metadata": {},
   "outputs": [],
   "source": [
    "# lists can also be iterated through\n",
    "\n",
    "for item in nestedlist:\n",
    "    for i in item:  # nested lists can also be iterated through\n",
    "        print(i, end=', ')\n",
    "\n",
    "numericallist = [1, 2, 99, 33, 45, 67]\n",
    "total = 0\n",
    "for item in numericallist:\n",
    "    total += item\n",
    "print('\\n', total, sep='')\n",
    "# sum of all elements in list, can also be used on tuples and multiple numbers or lists and tuples\n",
    "print(sum(numericallist))\n"
   ]
  },
  {
   "cell_type": "code",
   "execution_count": null,
   "metadata": {},
   "outputs": [],
   "source": [
    "# lists can also be edited with functions like:\n",
    "\n",
    "l = [5, 4, 3, 2]\n",
    "\n",
    "l.append(0)  # adds an object to the end of the list\n",
    "print(l)\n",
    "\n",
    "# lists can also be concatenated onto the end of a list in a mutable way\n",
    "l.extend([-1, -2, -3])\n",
    "print(l)\n",
    "\n",
    "del(l[0])  # used to delete an item from the list at a specific index\n",
    "# removes the last element from the list, returns the value of the removed element\n",
    "print(l.pop())\n",
    "l.remove(3)  # removes the element from the list (if the element has duplicates, the one with lowest index is removed)\n",
    "print(l)\n"
   ]
  },
  {
   "cell_type": "markdown",
   "metadata": {},
   "source": [
    "### Conversion Between Lists and Strings\n"
   ]
  },
  {
   "cell_type": "code",
   "execution_count": null,
   "metadata": {},
   "outputs": [],
   "source": [
    "string = 'I love potatoes'\n",
    "# seperates the string into a list, with each character as an object\n",
    "print(list(string))\n",
    "# splits the string into a list, with ' ' being the seperator\n",
    "print(string.split(' '))\n",
    "\n",
    "l = ['a', 'p', 'p', 'l', 'e']\n",
    "print(''.join(l))  # joins all elements of the list together with no gaps\n",
    "# joins all elements of the list together with '_'\n",
    "print('_'.join(string.split(' ')))\n"
   ]
  },
  {
   "cell_type": "code",
   "execution_count": null,
   "metadata": {},
   "outputs": [],
   "source": [
    "l = [9, 8, 1000, 0, 87]\n",
    "\n",
    "al = sorted(l)  # sorts list from least to greatest, does not mutate\n",
    "\n",
    "l.sort()  # sorts list and mutates\n",
    "l.reverse()  # reverses list\n",
    "\n",
    "print(l, al)\n"
   ]
  },
  {
   "cell_type": "markdown",
   "metadata": {},
   "source": [
    "### Mutability\n"
   ]
  },
  {
   "cell_type": "code",
   "execution_count": null,
   "metadata": {},
   "outputs": [],
   "source": [
    "unmutable = \"Hello!\"\n",
    "# A string can be redifined, but not edited. For example, you cannot access a string at index 0 to edit it, and unlike lists you cannot append or remove characters from it\n",
    "unmutable = \"Jello!\"  # redefining unmutable doesn't delete the \"Hello!\" string from memory, instead creating a new \"Jello!\" string and pointing the variable unmutable to it instead of \"Hello!\"\n",
    "\n",
    "\n",
    "mutable = [\"H\", \"e\", \"l\", \"l\", \"o\", \"!\"]\n",
    "# A list is mutable. We can edit the values of the list with indexes, and instead of changing the pointer we change the actual list memory \"object\"\n"
   ]
  },
  {
   "cell_type": "code",
   "execution_count": null,
   "metadata": {},
   "outputs": [],
   "source": [
    "# there also some funny things when using mutable objects:\n",
    "\n",
    "a = ['red', 'green', 'blue']\n",
    "b = a  # instead of duplicating the value of a into a new memory index, we point b to the memory index of a, basically binding them to the same data\n",
    "b.append('yellow')  # because .append() is mutable, there is no new memory allocated to b and instead the orginal memory index, which is also the one a uses, is edited\n",
    "\n",
    "print(a, b, sep='\\n')  # this resultes in a also \"getting\" the new value of b\n"
   ]
  },
  {
   "cell_type": "code",
   "execution_count": null,
   "metadata": {},
   "outputs": [],
   "source": [
    "# if you don't want the above to happen, you can clone a list instead\n",
    "c = ['red', 'green', 'blue']\n",
    "d = c[:]  # This looks like taking a splice of the entire list, and since splicing is immutable, a new memory object is created\n",
    "\n",
    "d.append('yellow')\n",
    "\n",
    "print(c, d, sep=\"\\n\")\n"
   ]
  },
  {
   "cell_type": "code",
   "execution_count": null,
   "metadata": {},
   "outputs": [],
   "source": [
    "nums = [2, 3, 99, 21]\n",
    "print(nums.sort()) # since .sort() is a mutable function, it returns none\n",
    "print(nums) # nums mutates to the sorted version\n",
    "\n",
    "morenums = [1, -10, 8.8, 12]\n",
    "print(sorted(morenums)) # sorted() is a immutable function, and returns the sorted version of morenums but doesn't change morenums itself\n",
    "print(morenums) # morenums remains unchanged"
   ]
  }
 ],
 "metadata": {
  "interpreter": {
   "hash": "aee8b7b246df8f9039afb4144a1f6fd8d2ca17a180786b69acc140d282b71a49"
  },
  "kernelspec": {
   "display_name": "Python 3.10.4 64-bit",
   "language": "python",
   "name": "python3"
  },
  "language_info": {
   "codemirror_mode": {
    "name": "ipython",
    "version": 3
   },
   "file_extension": ".py",
   "mimetype": "text/x-python",
   "name": "python",
   "nbconvert_exporter": "python",
   "pygments_lexer": "ipython3",
   "version": "3.10.4"
  },
  "orig_nbformat": 4
 },
 "nbformat": 4,
 "nbformat_minor": 2
}
