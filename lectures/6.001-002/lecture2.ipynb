{
 "cells": [
  {
   "cell_type": "markdown",
   "metadata": {},
   "source": [
    "# Strings"
   ]
  },
  {
   "cell_type": "code",
   "execution_count": null,
   "metadata": {},
   "outputs": [],
   "source": [
    "string = \"hello world\"\n",
    "\n",
    "details = ', boejiden'\n",
    "\n",
    "string+details # + is concat"
   ]
  },
  {
   "cell_type": "code",
   "execution_count": null,
   "metadata": {},
   "outputs": [],
   "source": [
    "details = 'joe, '\n",
    "details*3 # * is str repeated"
   ]
  },
  {
   "cell_type": "code",
   "execution_count": null,
   "metadata": {},
   "outputs": [],
   "source": [
    "number = 100\n",
    "\n",
    "str(number)+\"1\" # = 1001, not 101 (strings concat instead of add numerically)"
   ]
  },
  {
   "cell_type": "markdown",
   "metadata": {},
   "source": [
    "### String Manipulation"
   ]
  },
  {
   "cell_type": "code",
   "execution_count": null,
   "metadata": {},
   "outputs": [],
   "source": [
    "name = 'joe'\n",
    "# print(*objects, sep=' ', end='\\n', file=sys.stdout, flush=False)\n",
    "print('hi, ', 'my name is ', name) # TOO MANY SPACES!!!! (commas out of string are replaced with \" \")\n",
    "print('hi, ', 'my name is ', name, sep='') # replaces seperator with \"\""
   ]
  },
  {
   "cell_type": "code",
   "execution_count": null,
   "metadata": {},
   "outputs": [],
   "source": [
    "word = input('type anything!')\n",
    "print(word*3)\n",
    "\n",
    "number = int(input('type a number!'))\n",
    "print(number*3)"
   ]
  },
  {
   "cell_type": "markdown",
   "metadata": {},
   "source": [
    "# Comparision"
   ]
  },
  {
   "cell_type": "code",
   "execution_count": null,
   "metadata": {},
   "outputs": [],
   "source": [
    "a = 100\n",
    "b = 302\n",
    "c = \"302\"\n",
    "d = 100\n",
    "e = \"zooweemama\"\n",
    "\n",
    "print(f'''\n",
    "{a == b} - a is equal to b\n",
    "{a == d} - a is equal to d\n",
    "{a != b} - a is not equal to b\n",
    "{a >= b} - a is equal or greater than b\n",
    "{a <= b} - a is equal or less than b\n",
    "{a > b} - a is greater than b\n",
    "{a < b} - a is less than b\n",
    "{b == c} - b is equal to c\n",
    "{b is c} - b is equal to c and is the same type\n",
    "{c > e} - lex. comparision (z > a)\n",
    "''')"
   ]
  },
  {
   "cell_type": "markdown",
   "metadata": {},
   "source": [
    "# Logic"
   ]
  },
  {
   "cell_type": "code",
   "execution_count": null,
   "metadata": {},
   "outputs": [],
   "source": [
    "a = True\n",
    "b = False\n",
    "print(f'''\n",
    "{not a}\n",
    "{a and a}\n",
    "{a and b}\n",
    "{a or b}\n",
    "{a or a}\n",
    "{a ^ b} - aka xor\n",
    "{a ^ a} - also xor\n",
    "''')"
   ]
  },
  {
   "cell_type": "code",
   "execution_count": null,
   "metadata": {},
   "outputs": [],
   "source": [
    "x = True\n",
    "y = False\n",
    "\n",
    "if x and y:\n",
    "    print('Both of the values are True!')\n",
    "elif x or y: # crunched down else if\n",
    "    print('One of the values is True!')\n",
    "else:\n",
    "    print('None of the values are True.')"
   ]
  },
  {
   "cell_type": "markdown",
   "metadata": {},
   "source": [
    "# Loops"
   ]
  },
  {
   "cell_type": "code",
   "execution_count": null,
   "metadata": {},
   "outputs": [],
   "source": [
    "for i in range(0, 24, 4): # i is an index for the loop, range generates a iteratable \"list\" of numbers from start (0) to end (24) minus 1, with gaps of 4 (eg. 0, 4, 8 ... 20) <- notice that the first value of i is not 4\n",
    "    print(i, end=', ')\n",
    "\n",
    "print('\\n')\n",
    "\n",
    "for i in ['apples', 'pears', 'bananananaaas']:\n",
    "    print(i, end=', ')\n",
    "\n",
    "print('\\n')\n",
    "\n",
    "for i in [1, 999, 24, -100]:\n",
    "    print(i, end=', ')\n"
   ]
  },
  {
   "cell_type": "code",
   "execution_count": null,
   "metadata": {},
   "outputs": [],
   "source": [
    "import random\n",
    "\n",
    "x = random.randint(0, 100)\n",
    "while x<99: # condition (remeber not to have infinite loops unless needed)\n",
    "    print(x, end=', ')\n",
    "    x = random.randint(0, 100)\n",
    "print(x)\n"
   ]
  },
  {
   "cell_type": "code",
   "execution_count": null,
   "metadata": {},
   "outputs": [],
   "source": [
    "while True:\n",
    "    x = random.randint(0, 100)\n",
    "    if x <= 3:\n",
    "        break # break out of this infinite loop\n",
    "    print(x, end=', ')\n",
    "print(x)"
   ]
  }
 ],
 "metadata": {
  "interpreter": {
   "hash": "aee8b7b246df8f9039afb4144a1f6fd8d2ca17a180786b69acc140d282b71a49"
  },
  "kernelspec": {
   "display_name": "Python 3.10.4 64-bit",
   "language": "python",
   "name": "python3"
  },
  "language_info": {
   "codemirror_mode": {
    "name": "ipython",
    "version": 3
   },
   "file_extension": ".py",
   "mimetype": "text/x-python",
   "name": "python",
   "nbconvert_exporter": "python",
   "pygments_lexer": "ipython3",
   "version": "3.10.4"
  },
  "orig_nbformat": 4
 },
 "nbformat": 4,
 "nbformat_minor": 2
}
