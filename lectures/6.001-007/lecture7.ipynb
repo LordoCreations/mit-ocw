{
 "cells": [
  {
   "cell_type": "markdown",
   "metadata": {},
   "source": [
    "# Debugging"
   ]
  },
  {
   "cell_type": "code",
   "execution_count": null,
   "metadata": {},
   "outputs": [],
   "source": [
    "def buggy(x):\n",
    "    return 100/x\n",
    "\n",
    "# buggy(0) <- division by zero error\n",
    "\n",
    "# all other input works, except for 0 - which means that 0 is a corner case\n",
    "print(f'''\n",
    "{buggy(100)}\n",
    "{buggy(0.001)}\n",
    "{buggy(9.123)}\n",
    "''')\n"
   ]
  },
  {
   "cell_type": "code",
   "execution_count": null,
   "metadata": {},
   "outputs": [],
   "source": [
    "def need_debug(x):\n",
    "    x = int(x) # limits the input value of x to only integers\n",
    "    if x > 0: # need to test values of x > 0 and x <= 0\n",
    "        for i in range(x): # need to test values of x being 1 or 2+ \n",
    "            x += x\n",
    "    else:\n",
    "        while x < 0: # need to run when x < 0 and when x >= 0\n",
    "            x = abs(x) * 1.5 # need to see if abs of any negative number * 1.5 is a larger number than before\n",
    "    return x\n",
    "\n",
    "print(need_debug(1))\n",
    "print(need_debug(2))\n",
    "print(need_debug(33))\n",
    "print(need_debug(0))\n",
    "print(need_debug(-1))\n",
    "print(need_debug(-2))\n",
    "print(need_debug(-33))\n",
    "print(need_debug(1.1112)) # if x = int(x) wasnt there this would throw an error because we cant pass a float into range()\n"
   ]
  },
  {
   "cell_type": "code",
   "execution_count": null,
   "metadata": {},
   "outputs": [],
   "source": [
    "def verylongcalc(x, y):\n",
    "    (x, y) = (int(x), int(y))\n",
    "    for i in range(y):\n",
    "        x *= i+y\n",
    "        print(f'x is currently {x}, i = {i}, y = {y}') # check if things are going right\n",
    "    if y> 1: return verylongcalc(x, y-1) # check logic of code, eg. if y was there instead of y-1 we would have a recursion error\n",
    "    else: return (x, y)\n",
    "\n",
    "verylongcalc(5, 5)"
   ]
  },
  {
   "cell_type": "markdown",
   "metadata": {},
   "source": [
    "# Error Messages\n",
    "\n",
    "#### The following code will contain intentional errors"
   ]
  },
  {
   "cell_type": "code",
   "execution_count": null,
   "metadata": {},
   "outputs": [],
   "source": [
    "shortlist = ['Ana', 'Elizabeth', 'Jeorge', 'Oliver', 'Zachary']\n",
    "shortlist[100] # Index Error: there is no element with index '100' in shortlist"
   ]
  },
  {
   "cell_type": "code",
   "execution_count": null,
   "metadata": {},
   "outputs": [],
   "source": [
    "essaythesis = \"writing code is very fun\"\n",
    "grade = int(essaythesis) # Type Error: you cannot convert chars to integers"
   ]
  },
  {
   "cell_type": "code",
   "execution_count": null,
   "metadata": {},
   "outputs": [],
   "source": [
    "unknownvariable += 100 # Name Error: unknownvariable does not exist in the scope. These are usually found by IDE debuggers or intellisense and are easy to solve"
   ]
  },
  {
   "cell_type": "code",
   "execution_count": null,
   "metadata": {},
   "outputs": [],
   "source": [
    "\"a*b\"/100 # Type Error: strings and integers cannot be operated together"
   ]
  },
  {
   "cell_type": "code",
   "execution_count": null,
   "metadata": {},
   "outputs": [],
   "source": [
    "print('whoops!' # Syntax Error: missing a closing parentheses. These are usually really easy to find with an IDE"
   ]
  },
  {
   "cell_type": "markdown",
   "metadata": {},
   "source": [
    "### Understanding an Error Message"
   ]
  },
  {
   "cell_type": "markdown",
   "metadata": {},
   "source": [
    "IndexError **Error Type**\n",
    "\n",
    "Traceback (most recent call last) **Where the bug happened**\n",
    "\n",
    "c:\\Users\\dd\\Documents\\mit-ocw\\lectures\\6.001-007\\lecture7.ipynb Cell 6' in <cell line: 2>() **where the bug is (file, line)**\n",
    "\n",
    "      1 shortlist = ['Ana', 'Elizabeth', 'Jeorge', 'Oliver', 'Zachary']\n",
    "----> 2 shortlist[100]  **line that caused the error**\n",
    "\n",
    "IndexError: list index out of range **error specifics**"
   ]
  },
  {
   "cell_type": "markdown",
   "metadata": {},
   "source": [
    "# Exceptions"
   ]
  },
  {
   "cell_type": "code",
   "execution_count": null,
   "metadata": {},
   "outputs": [],
   "source": [
    "# Common Errors:\n",
    "'''\n",
    "SyntaxError: Python can't parse the program\n",
    "NameError: local or global name not found\n",
    "AttributeError: attribute refrence fails\n",
    "TypeError: operand doesn't have correct type\n",
    "ValueError: operand type ok, but value is illegal\n",
    "IOError: IO system reports malfunction\n",
    "'''"
   ]
  },
  {
   "cell_type": "code",
   "execution_count": null,
   "metadata": {},
   "outputs": [],
   "source": [
    "def safeinput():\n",
    "    try: # use try: // error: to run code that may throw erros\n",
    "        a = int(input('Write a number...  '))\n",
    "        return a\n",
    "    except:\n",
    "        print(\"Invalid Response - Try Again\")\n",
    "        return safeinput() # restarts the input proces\n",
    "\n",
    "safeinput()*10"
   ]
  },
  {
   "cell_type": "code",
   "execution_count": null,
   "metadata": {},
   "outputs": [],
   "source": [
    "try:\n",
    "    a = int(input('Write a Number:   '))\n",
    "    b = int(input('Write a Number:   '))\n",
    "    print(a/b)\n",
    "except ZeroDivisionError: # handling specific errors\n",
    "    print('You can\\'t divide something by 0!')\n",
    "except ValueError:\n",
    "    print('Write a Number Instead')\n",
    "except:\n",
    "    print('something went very wrong')"
   ]
  }
 ],
 "metadata": {
  "interpreter": {
   "hash": "63fd5069d213b44bf678585dea6b12cceca9941eaf7f819626cde1f2670de90d"
  },
  "kernelspec": {
   "display_name": "Python 3.9.1 64-bit",
   "language": "python",
   "name": "python3"
  },
  "language_info": {
   "codemirror_mode": {
    "name": "ipython",
    "version": 3
   },
   "file_extension": ".py",
   "mimetype": "text/x-python",
   "name": "python",
   "nbconvert_exporter": "python",
   "pygments_lexer": "ipython3",
   "version": "3.9.1"
  },
  "orig_nbformat": 4
 },
 "nbformat": 4,
 "nbformat_minor": 2
}
