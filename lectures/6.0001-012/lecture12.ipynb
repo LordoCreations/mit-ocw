{
 "cells": [
  {
   "cell_type": "markdown",
   "metadata": {},
   "source": [
    "# Searching and Sorting"
   ]
  },
  {
   "cell_type": "code",
   "execution_count": null,
   "metadata": {},
   "outputs": [],
   "source": [
    "def linearsearch(l, e):\n",
    "    for i in range(len(l)):\n",
    "        if e==l[i]: return i\n",
    "    return False\n",
    "\n",
    "usl = [1, 9, 22222222, 9, 0, -1, 9.232, 23, 8, 99, 2200, 56, 74, 64.123]\n",
    "\n",
    "print(linearsearch(usl, 9.232))\n",
    "\n",
    "def bisect(l, e):\n",
    "    def s(l, b, t, e):\n",
    "        if t-b<=0: return False\n",
    "        indice = (t+b)//2\n",
    "        point = l[indice]\n",
    "        if point > e: return s(l, b, indice, e)\n",
    "        elif point < e: return s(l, indice, t, e)\n",
    "        else: return indice\n",
    "    return s(l, 0, len(l), e)\n",
    "\n",
    "sl = [1, 2, 3, 4, 5, 6, 7, 8, 9, 10]\n",
    "print(bisect(sl, 3))"
   ]
  },
  {
   "cell_type": "markdown",
   "metadata": {},
   "source": [
    "### Sorting"
   ]
  },
  {
   "cell_type": "code",
   "execution_count": null,
   "metadata": {},
   "outputs": [],
   "source": [
    "import random\n",
    "import time\n",
    "\n",
    "def mklist(length, min, max):\n",
    "    res = []\n",
    "    for i in range(length): res.append(random.randint(min, max))\n",
    "    return res\n",
    "\n",
    "def issorted(l): return True if l == sorted(l) else False\n",
    "\n",
    "def shuffle(l): return random.shuffle(l)\n",
    "\n",
    "def timeit(f, p):\n",
    "    st = time.time()\n",
    "    print(f(p))\n",
    "    print(\"--- %s seconds ---\" % (time.time() - st))\n",
    "\n",
    "\n",
    "# bogosort\n",
    "\n",
    "def bogosort(l):\n",
    "    while not issorted(l): shuffle(l)\n",
    "    return l\n",
    "\n",
    "testlist = mklist(10, 1, 10)\n",
    "print(testlist)\n",
    "timeit(bogosort, testlist)"
   ]
  },
  {
   "cell_type": "code",
   "execution_count": null,
   "metadata": {},
   "outputs": [],
   "source": [
    "# bubble sort\n",
    "\n",
    "def bubblesort(l):\n",
    "    while not issorted(l):\n",
    "        for i in range(len(l)-1):\n",
    "            if l[i] > l[i+1]: (l[i], l[i+1]) = (l[i+1], l[i])\n",
    "    return l\n",
    "\n",
    "testlist = mklist(10, 1, 10)\n",
    "print(testlist)\n",
    "timeit(bubblesort, testlist)"
   ]
  },
  {
   "cell_type": "code",
   "execution_count": null,
   "metadata": {},
   "outputs": [],
   "source": [
    "# selection sort\n",
    "\n",
    "def selectionsort(l):\n",
    "    for i in range(len(l)):\n",
    "        lar = i\n",
    "        for j in range(i + 1, len(l)):\n",
    "            if l[j] < l[lar]: lar = j\n",
    "        (l[lar], l[i]) = (l[i], l[lar])\n",
    "    return l\n",
    "\n",
    "\n",
    "testlist = mklist(10, 1, 10)\n",
    "print(testlist)\n",
    "timeit(selectionsort, testlist)\n"
   ]
  },
  {
   "cell_type": "code",
   "execution_count": null,
   "metadata": {},
   "outputs": [],
   "source": [
    "# merge sort\n",
    "\n",
    "def merge(l, r):\n",
    "    res, i, j = [],0, 0\n",
    "    while i < len(l) and j < len(r):\n",
    "        if l[i] < r[j]:\n",
    "            res.append(l[i])\n",
    "            i += 1\n",
    "        else:\n",
    "            res.append(r[j])\n",
    "            j += 1\n",
    "    res += l[i:] + r[j:]\n",
    "    return res\n",
    "\n",
    "def msort(l):\n",
    "    if len(l) <= 1: return l\n",
    "    mid = len(l)//2\n",
    "    a, b = msort(l[:mid]), msort(l[mid:])\n",
    "    return merge(a, b)\n",
    "\n",
    "\n",
    "testlist = mklist(100, 1, 10)\n",
    "print(testlist)\n",
    "timeit(msort, testlist)"
   ]
  },
  {
   "cell_type": "code",
   "execution_count": null,
   "metadata": {},
   "outputs": [],
   "source": [
    "# quicksort\n",
    "\n",
    "def qsort(l):\n",
    "    if len(l) < 2: return l\n",
    "    point = l[len(l)//2]\n",
    "    a, b, m = [], [], []\n",
    "    for e in l:\n",
    "        if e > point: a.append(e)\n",
    "        elif e < point: b.append(e)\n",
    "        else: m.append(e)\n",
    "    return qsort(b)+m+qsort(a)\n",
    "    \n",
    "testlist = mklist(100, 1, 10)\n",
    "print(testlist)\n",
    "timeit(qsort, testlist)"
   ]
  }
 ],
 "metadata": {
  "interpreter": {
   "hash": "aee8b7b246df8f9039afb4144a1f6fd8d2ca17a180786b69acc140d282b71a49"
  },
  "kernelspec": {
   "display_name": "Python 3.10.4 64-bit",
   "language": "python",
   "name": "python3"
  },
  "language_info": {
   "codemirror_mode": {
    "name": "ipython",
    "version": 3
   },
   "file_extension": ".py",
   "mimetype": "text/x-python",
   "name": "python",
   "nbconvert_exporter": "python",
   "pygments_lexer": "ipython3",
   "version": "3.10.4"
  },
  "orig_nbformat": 4
 },
 "nbformat": 4,
 "nbformat_minor": 2
}
