{
 "cells": [
  {
   "cell_type": "markdown",
   "metadata": {},
   "source": [
    "# Complexity"
   ]
  },
  {
   "cell_type": "code",
   "execution_count": null,
   "metadata": {},
   "outputs": [],
   "source": [
    "# bisection search: log(n)\n",
    "\n",
    "def bisect(l, e):\n",
    "    def s(l, b, t, e):\n",
    "        #print(t, b)\n",
    "        if t-b<=0:\n",
    "            return False\n",
    "        indice = (t+b)//2\n",
    "        point = l[indice]\n",
    "        # print(t, b, indice, \"--\" ,point)\n",
    "        # print(l[b:t])\n",
    "        if point > e: return s(l, b, indice, e)\n",
    "        elif point < e: return s(l, indice, t, e)\n",
    "        else: return indice\n",
    "    \n",
    "    return s(l, 0, len(l), e)\n",
    "\n",
    "\n",
    "print(bisect([1, 2, 4, 12, 13, 19, 81, 1231, 22222], 12))"
   ]
  },
  {
   "cell_type": "code",
   "execution_count": null,
   "metadata": {},
   "outputs": [],
   "source": [
    "def intToStr(i):\n",
    "    d = '0123456789'\n",
    "    res = ''\n",
    "    if i == 0: return '0'\n",
    "    while i > 0:\n",
    "        res = d[i%10]+res\n",
    "        i = i//10\n",
    "    return res\n",
    "\n",
    "def floToStr(i):\n",
    "    c = 0\n",
    "    while int(i) != i:\n",
    "        i *= 10\n",
    "        c+=1\n",
    "    v = intToStr(int(i))\n",
    "    return v[0:len(v)-c]+'.'+v[len(v)-c:]\n",
    "\n",
    "floToStr(100.12323)"
   ]
  },
  {
   "cell_type": "code",
   "execution_count": null,
   "metadata": {},
   "outputs": [],
   "source": [
    "def pset(n):\n",
    "    if n == 0:\n",
    "        return [[]]\n",
    "    else:\n",
    "        v = pset(n-1)\n",
    "        ve = [[i for i in row] for row in v]\n",
    "        for e in ve:\n",
    "            e.insert(0, n)\n",
    "        v.extend(ve)\n",
    "        return v\n",
    "\n",
    "def genSubsets(L):\n",
    "    if len(L) == 0:\n",
    "        return [[]]\n",
    "    smaller = genSubsets(L[:-1])\n",
    "    extra = L[-1:]\n",
    "    new = []\n",
    "    for small in smaller:\n",
    "        new.append(small+extra)\n",
    "    return smaller+new\n",
    "\n",
    "print(pset(4))\n",
    "print(genSubsets([1, 2, 3, 4]))"
   ]
  },
  {
   "cell_type": "markdown",
   "metadata": {},
   "source": [
    "### Complexity Classes\n",
    "```c\n",
    "O(1) - code does not depend on size of n\n",
    "\n",
    "O(log n) - reduce problem in half, third, quarter etc. each time\n",
    "\n",
    "O(n) - iterate or recurse (by constants)\n",
    "\n",
    "O(n log n) - Next Lecture\n",
    "\n",
    "O(n^c) - nested loops/recursive calls\n",
    "\n",
    "O(c^n) - multiple recursive calls at each level\n",
    "```"
   ]
  },
  {
   "cell_type": "code",
   "execution_count": null,
   "metadata": {},
   "outputs": [],
   "source": [
    "def iterfib(n):\n",
    "    if n <= 1: return n\n",
    "    (a, b) = (0, 1)\n",
    "    for i in range(n-1): (a, b) = (b, a+b)\n",
    "    return b\n",
    "\n",
    "def recurfib(n): return n if n <= 1 else recurfib(n-1)+recurfib(n-2)\n",
    "\n",
    "def fib(n, r=1, ldr=1): return ldr if n <= 1 else fib(n-1, r+ldr, r)\n",
    "\n",
    "print(iterfib(5))\n",
    "print(recurfib(5))\n",
    "print(fib(5))"
   ]
  }
 ],
 "metadata": {
  "interpreter": {
   "hash": "aee8b7b246df8f9039afb4144a1f6fd8d2ca17a180786b69acc140d282b71a49"
  },
  "kernelspec": {
   "display_name": "Python 3.10.4 64-bit",
   "language": "python",
   "name": "python3"
  },
  "language_info": {
   "codemirror_mode": {
    "name": "ipython",
    "version": 3
   },
   "file_extension": ".py",
   "mimetype": "text/x-python",
   "name": "python",
   "nbconvert_exporter": "python",
   "pygments_lexer": "ipython3",
   "version": "3.10.4"
  },
  "orig_nbformat": 4
 },
 "nbformat": 4,
 "nbformat_minor": 2
}
