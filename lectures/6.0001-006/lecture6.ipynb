{
 "cells": [
  {
   "cell_type": "markdown",
   "metadata": {},
   "source": [
    "# Recursion\n"
   ]
  },
  {
   "cell_type": "code",
   "execution_count": null,
   "metadata": {},
   "outputs": [],
   "source": [
    "# using iteration and recursion to do multiplication\n",
    "def iter(a, b):\n",
    "    s = 0\n",
    "    for i in range(b):  # we can iterate with a for or while loop\n",
    "        s += a\n",
    "    return s\n",
    "\n",
    "\n",
    "def recur(a, b):\n",
    "    if b == 1:\n",
    "        return a  # base case\n",
    "    else:\n",
    "        return recur(a, b-1)+a  # recursion, creates a new scope\n",
    "\n",
    "recur(9, 10)"
   ]
  },
  {
   "cell_type": "code",
   "execution_count": null,
   "metadata": {},
   "outputs": [],
   "source": [
    "# using recursion for factorials\n",
    "\n",
    "def fact(a):\n",
    "    if a == 1:\n",
    "        return 1  # base case\n",
    "    else:\n",
    "        return fact(a-1)*a  # recursion\n",
    "\n",
    "\n",
    "fact(12)"
   ]
  },
  {
   "cell_type": "markdown",
   "metadata": {},
   "source": [
    "### Towers of Hanoi"
   ]
  },
  {
   "cell_type": "code",
   "execution_count": null,
   "metadata": {},
   "outputs": [],
   "source": [
    "def hanoi(n, fr, to, spare):\n",
    "    if n == 1:\n",
    "        print('move from', fr, 'to', to)\n",
    "    else:\n",
    "        hanoi(n-1, fr, spare, to)\n",
    "        hanoi(1, fr, to, spare)\n",
    "        hanoi(n-1, spare, to, fr)\n",
    "\n",
    "hanoi(4, 1, 2, 3)\n"
   ]
  },
  {
   "cell_type": "markdown",
   "metadata": {},
   "source": [
    "### Fibonacci"
   ]
  },
  {
   "cell_type": "code",
   "execution_count": null,
   "metadata": {},
   "outputs": [],
   "source": [
    "def fib(day, r, ldr): # this solution is actually way faster!\n",
    "    if day == 0 or day == 1:\n",
    "        return r\n",
    "    else:\n",
    "        return fib(day-1, r+ldr, r)\n",
    "\n",
    "def fibtwo(x):\n",
    "    if x == 0 or x == 1:\n",
    "        return 1\n",
    "    else:\n",
    "        return fibtwo(x-1) + fibtwo(x-2)\n",
    "\n",
    "\n",
    "print(fib(3, 1, 1))\n",
    "\n",
    "for i in range(15):\n",
    "    print(fib(i, 1, 1), end=\", \")\n",
    "\n",
    "print('\\n')\n",
    "\n",
    "for i in range(15):\n",
    "    print(fibtwo(i), end=\", \")"
   ]
  },
  {
   "cell_type": "markdown",
   "metadata": {},
   "source": [
    "### Recursion on Non-numerics"
   ]
  },
  {
   "cell_type": "code",
   "execution_count": null,
   "metadata": {},
   "outputs": [],
   "source": [
    "# palindrome detector\n",
    "def isPalindrome(s):\n",
    "    def palindrome(s):\n",
    "        if len(s) <= 1:\n",
    "            return True\n",
    "        else:\n",
    "            return s[0] == s[-1] and palindrome(s[1:-1])\n",
    "\n",
    "    def startup(string):\n",
    "        string = string.strip()\n",
    "        string = string.lower()\n",
    "        return palindrome(string)\n",
    "    \n",
    "    return startup(s)\n",
    "\n",
    "isPalindrome('hellolleh')"
   ]
  },
  {
   "cell_type": "markdown",
   "metadata": {},
   "source": [
    "# Dictionaries"
   ]
  },
  {
   "cell_type": "code",
   "execution_count": null,
   "metadata": {},
   "outputs": [],
   "source": [
    "a_dict = {} # declaring a dictionary\n",
    "\n",
    "example_dict = {\n",
    "    \"user1\": {\"grade\": 5, \"course\": 'math', \"results\": 'A'}, # a dictionary can also have nested dictionaries within\n",
    "    \"user2\": {\"grade\": 4, \"course\": 'science', \"results\": 'C'},\n",
    "    \"user3\": {\"grade\": 9, \"course\": 'art', \"results\": 'A+'}\n",
    "}\n",
    "\n",
    "print(example_dict[\"user1\"][\"grade\"])\n",
    "example_dict[\"user1\"][\"comments\"] = \"very good student\" # dictionaries are mutable\n",
    "print(example_dict)\n",
    "del(example_dict[\"user1\"][\"comments\"]) # delete a key and value\n",
    "print(example_dict.keys()) # get all keys in dictionary\n",
    "print(example_dict.values()) # get all values in dictionary"
   ]
  },
  {
   "cell_type": "markdown",
   "metadata": {},
   "source": [
    "### Explorations"
   ]
  },
  {
   "cell_type": "code",
   "execution_count": null,
   "metadata": {},
   "outputs": [],
   "source": [
    "# fib. with a dictionary\n",
    "\n",
    "def fib_eff(n, d):\n",
    "    if n in d:\n",
    "        return d[n]\n",
    "    else:\n",
    "        d[n] = fib_eff(n-1, d) + fib_eff(n-2, d)\n",
    "        return d[n]\n",
    "\n",
    "d = {1:1, 2:2}\n",
    "print(fib_eff(6, d))"
   ]
  }
 ],
 "metadata": {
  "interpreter": {
   "hash": "aee8b7b246df8f9039afb4144a1f6fd8d2ca17a180786b69acc140d282b71a49"
  },
  "kernelspec": {
   "display_name": "Python 3.10.4 64-bit",
   "language": "python",
   "name": "python3"
  },
  "language_info": {
   "codemirror_mode": {
    "name": "ipython",
    "version": 3
   },
   "file_extension": ".py",
   "mimetype": "text/x-python",
   "name": "python",
   "nbconvert_exporter": "python",
   "pygments_lexer": "ipython3",
   "version": "3.10.4"
  },
  "orig_nbformat": 4
 },
 "nbformat": 4,
 "nbformat_minor": 2
}
